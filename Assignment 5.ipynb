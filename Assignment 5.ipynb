{
 "cells": [
  {
   "cell_type": "code",
   "execution_count": 1,
   "metadata": {},
   "outputs": [
    {
     "name": "stdout",
     "output_type": "stream",
     "text": [
      "Milk\n",
      "Banana\n",
      "yogurt\n"
     ]
    }
   ],
   "source": [
    "def Shopping(*item):\n",
    "    for i in item:\n",
    "        print(i)\n",
    "\n",
    "Shopping(\"Milk\",\"Banana\",\"yogurt\")\n",
    "\n"
   ]
  },
  {
   "cell_type": "code",
   "execution_count": 36,
   "metadata": {},
   "outputs": [
    {
     "data": {
      "text/plain": [
       "True"
      ]
     },
     "execution_count": 36,
     "metadata": {},
     "output_type": "execute_result"
    }
   ],
   "source": [
    "def palidrome(str):\n",
    "    left=0\n",
    "    right=len(str)-1\n",
    "    \n",
    "    while right >= left:\n",
    "        if not str[left] == str[right]:\n",
    "            return False\n",
    "        left+=1\n",
    "        right-=1\n",
    "    return True\n",
    "\n",
    "palidrome(\"madam\")"
   ]
  },
  {
   "cell_type": "code",
   "execution_count": 32,
   "metadata": {},
   "outputs": [
    {
     "name": "stdout",
     "output_type": "stream",
     "text": [
      "2\n",
      "4\n",
      "6\n",
      "8\n"
     ]
    }
   ],
   "source": [
    "List=[1,2,3,4,5,6,7,8,9]\n",
    "\n",
    "for i in List:\n",
    "    if i % 2 == 0:\n",
    "        print(i)\n"
   ]
  },
  {
   "cell_type": "code",
   "execution_count": 33,
   "metadata": {},
   "outputs": [
    {
     "name": "stdout",
     "output_type": "stream",
     "text": [
      "Original String :  The quick Brown Fox\n",
      "No. of Upper case characters :  3\n",
      "No. of Lower case Characters :  13\n"
     ]
    }
   ],
   "source": [
    "def string_test(str):\n",
    "    dic={\"Upper\":0, \"Lower\":0}\n",
    "    for c in str:\n",
    "        if c.isupper():\n",
    "           dic[\"Upper\"]+=1\n",
    "        elif c.islower():\n",
    "           dic[\"Lower\"]+=1\n",
    "        else:\n",
    "           pass\n",
    "    print (\"Original String : \", str)\n",
    "    print (\"No. of Upper case characters : \", dic[\"Upper\"])\n",
    "    print (\"No. of Lower case Characters : \", dic[\"Lower\"])\n",
    "\n",
    "string_test('The quick Brown Fox')\n"
   ]
  },
  {
   "cell_type": "code",
   "execution_count": 23,
   "metadata": {},
   "outputs": [
    {
     "name": "stdout",
     "output_type": "stream",
     "text": [
      "Enter number4\n",
      "The factorial of 4 is 24\n"
     ]
    }
   ],
   "source": [
    "\n",
    "def recur_factorial(num):\n",
    "    if num == 1:\n",
    "        return num\n",
    "    else:\n",
    "        return num * recur_factorial(num-1)\n",
    "\n",
    "num=int(input(\"Enter number\"))\n",
    "if num < 0:\n",
    "    print(\"Sorry factorial doesn't exist for negative number\")\n",
    "elif num == 0:\n",
    "    print(\"The factorail is 0 is 1\")\n",
    "else:\n",
    "    print(\"The factorial of\",num ,\"is\",recur_factorial(num))\n"
   ]
  },
  {
   "cell_type": "code",
   "execution_count": 25,
   "metadata": {},
   "outputs": [
    {
     "name": "stdout",
     "output_type": "stream",
     "text": [
      "Enter number4\n",
      "4  is not prime number\n"
     ]
    }
   ],
   "source": [
    "num=int(input(\"Enter number\"))\n",
    "\n",
    "if num > 1:\n",
    "    for i in range(2,num):\n",
    "        if num % i ==0:\n",
    "            print(num,\" is not prime number\")\n",
    "            break\n",
    "    else:\n",
    "        print(num,\"is prime number\")\n",
    "\n",
    "else:\n",
    "    print(num, \" is not prime number\")\n"
   ]
  },
  {
   "cell_type": "code",
   "execution_count": null,
   "metadata": {},
   "outputs": [],
   "source": []
  },
  {
   "cell_type": "code",
   "execution_count": null,
   "metadata": {},
   "outputs": [],
   "source": []
  }
 ],
 "metadata": {
  "kernelspec": {
   "display_name": "Python 3",
   "language": "python",
   "name": "python3"
  },
  "language_info": {
   "codemirror_mode": {
    "name": "ipython",
    "version": 3
   },
   "file_extension": ".py",
   "mimetype": "text/x-python",
   "name": "python",
   "nbconvert_exporter": "python",
   "pygments_lexer": "ipython3",
   "version": "3.7.4"
  }
 },
 "nbformat": 4,
 "nbformat_minor": 2
}
