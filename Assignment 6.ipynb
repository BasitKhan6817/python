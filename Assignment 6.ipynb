{
 "cells": [
  {
   "cell_type": "code",
   "execution_count": null,
   "metadata": {},
   "outputs": [],
   "source": [
    "Define OOP language?\n",
    "\n",
    "An OOPL (object-oriented programming language) is a programming language that is\n",
    "based on the object-oriented programming model explained above.\n",
    "Examples of object-oriented programming languages are C++, C#, Java, Python"
   ]
  },
  {
   "cell_type": "code",
   "execution_count": null,
   "metadata": {},
   "outputs": [],
   "source": [
    "Benefit of OOP?\n",
    "\n",
    "OOP offers easy to understand and a clear modular structure for programs.\n",
    "Objects created for Object-Oriented Programs can be reused in other programs. Thus it saves significant development cost.\n",
    "Large programs are difficult to write, but if the development and designing team follow OOPS concept then they can better\n",
    "design with minimum flaws.\n",
    "It also enhances program modularity because every object exists independently."
   ]
  },
  {
   "cell_type": "code",
   "execution_count": null,
   "metadata": {},
   "outputs": [],
   "source": [
    "Difference between function and method?\n",
    "\n",
    "Simply, function and method both look similar as they perform in almost similar way,\n",
    "but the key difference is the concept of ‘Class and its Object‘.\n",
    "Functions can be called only by its name, as it is defined independently.\n",
    "But methods can’t be called by its name only, we need to invoke the class by a reference of that class in which it is defined,\n",
    "i.e. method is defined within a class and hence they are dependent on that class.\n"
   ]
  },
  {
   "cell_type": "code",
   "execution_count": null,
   "metadata": {},
   "outputs": [],
   "source": [
    "\n",
    "\n",
    "A class is a user defined blueprint or prototype from which objects are created. \n",
    "It represents the set of properties or methods that are common to all objects of one type. In general,\n",
    "\n",
    "\n",
    "It is a basic unit of Object Oriented Programming and represents the real life entities.  \n",
    "A typical Java program creates many objects, which as you know, interact by invoking methods. An object consists of :\n",
    "\n",
    "State : It is represented by attributes of an object. It also reflects the properties of an object.\n",
    "Behavior : It is represented by methods of an object. It also reflects the response of an object with other objects.\n",
    "Identity : It gives a unique name to an object and enables one object to interact with other objects.\n",
    "Example of an object : dog\n",
    "\n",
    "\n",
    "\n",
    "An instance attribute is a Python variable belonging to one, and only one, object. This variable is only accessible in the scope of this object and \n",
    "it is defined inside the constructor function, __init__(self,..) of the class.\n",
    "\n",
    "A class attribute is a Python variable that belongs to a class rather than a particular object.\n",
    "It is shared between all the objects of this class and it is defined outside the constructor \n",
    "function, __init__(self,...), of the class.\n",
    "\n",
    "\n",
    "A class's behavior determines how an instance of that class operates; for example, how it will \"react\" if asked to do something by another class or object or if its internal state changes. Behavior is the only way objects can do anything to themselves or have anything done to them. For example, to go back to the theoretical Motorcycle class, here are some behaviors that the Motorcycle class might have:\n",
    "\n",
    "Start the engine\n",
    "Stop the engine\n",
    "Speed up\n",
    "Change gear\n",
    "\n"
   ]
  },
  {
   "cell_type": "code",
   "execution_count": 15,
   "metadata": {},
   "outputs": [
    {
     "name": "stdout",
     "output_type": "stream",
     "text": [
      "Car color is red\n",
      "Name : Zara\n",
      "Colour : red\n",
      "Company : Honda\n",
      "Model : 2019\n",
      "Model : 10\n",
      "Increase car speed 20\n"
     ]
    }
   ],
   "source": [
    "class Car:\n",
    "    def __init__(self, name, color,company,model,speed):\n",
    "        self.name=name\n",
    "        self.color=color\n",
    "        self.company=company\n",
    "        self.model=model\n",
    "        Car.speed=speed\n",
    "        \n",
    "    \n",
    "    def ColorChange(self):\n",
    "        self.color=\"red\"\n",
    "        print(\"Car color is\",self.color)\n",
    "    \n",
    "    def DetialCar(self):\n",
    "        print(\"Name :\",self.name )\n",
    "        print(\"Colour :\",self.color )\n",
    "        print(\"Company :\",self.company )\n",
    "        print(\"Model :\",self.model )\n",
    "        print(\"Model :\",self.speed )\n",
    "   \n",
    "    def Change(self):\n",
    "        self.color=\"red\"\n",
    "        print(\"Car color is\",self.color)\n",
    "    \n",
    "    def IncreaseSpeed(self):\n",
    "        self.speed=20\n",
    "        print(\"Increase car speed\",self.speed)\n",
    "        \n",
    "emp1 = Car(\"Zara\", \"blue\",\"Honda\",\"2019\",10)\n",
    "emp1.ColorChange()\n",
    "emp1.DetialCar()\n",
    "emp1.IncreaseSpeed()"
   ]
  },
  {
   "cell_type": "code",
   "execution_count": null,
   "metadata": {},
   "outputs": [],
   "source": []
  },
  {
   "cell_type": "code",
   "execution_count": null,
   "metadata": {},
   "outputs": [],
   "source": []
  },
  {
   "cell_type": "code",
   "execution_count": null,
   "metadata": {},
   "outputs": [],
   "source": []
  }
 ],
 "metadata": {
  "kernelspec": {
   "display_name": "Python 3",
   "language": "python",
   "name": "python3"
  },
  "language_info": {
   "codemirror_mode": {
    "name": "ipython",
    "version": 3
   },
   "file_extension": ".py",
   "mimetype": "text/x-python",
   "name": "python",
   "nbconvert_exporter": "python",
   "pygments_lexer": "ipython3",
   "version": "3.7.4"
  }
 },
 "nbformat": 4,
 "nbformat_minor": 2
}
