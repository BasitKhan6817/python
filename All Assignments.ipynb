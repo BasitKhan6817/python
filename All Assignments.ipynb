{
 "cells": [
  {
   "cell_type": "code",
   "execution_count": 1,
   "metadata": {},
   "outputs": [
    {
     "name": "stdout",
     "output_type": "stream",
     "text": [
      "Enter first number: 44\n",
      "Enter second number: 5\n",
      "49\n"
     ]
    }
   ],
   "source": [
    "#Write a python program which takes two inputs from user and print them addition?\n",
    "\n",
    "x = int(input(\"Enter first number: \"))\n",
    "y = int(input(\"Enter second number: \"))\n",
    "sum=x+y\n",
    "print(sum)"
   ]
  },
  {
   "cell_type": "code",
   "execution_count": 7,
   "metadata": {},
   "outputs": [
    {
     "name": "stdout",
     "output_type": "stream",
     "text": [
      "Enter the first name : basit\n",
      "Enter the last name : ali\n",
      "ila tisab\n"
     ]
    }
   ],
   "source": [
    "# 5. #Write a Python program which accepts the user's first and last name and print them in reverse order with a space \n",
    "# between them?\n",
    "\n",
    "\n",
    "First_name = input(\"Enter the first name : \")\n",
    "Last_name = input(\"Enter the last name : \")\n",
    "fullname=First_name +\" \"+Last_name\n",
    "print(fullname[::-1])\n",
    "\n",
    "\n",
    "\n"
   ]
  },
  {
   "cell_type": "code",
   "execution_count": 8,
   "metadata": {},
   "outputs": [
    {
     "name": "stdout",
     "output_type": "stream",
     "text": [
      "Enter The Radius of the Circle:5\n",
      "Area of Circle with radius 5.0 is 78.55\n"
     ]
    }
   ],
   "source": [
    "#4. Write a Python program which accepts the radius of a circle from the user and compute the area?\n",
    "\n",
    "PI= 3.142\n",
    "radius =float(input(\"Enter The Radius of the Circle:\"))\n",
    "Area = PI * radius**2\n",
    "print(\"Area of Circle with radius\", radius ,\"is\" ,Area)"
   ]
  },
  {
   "cell_type": "code",
   "execution_count": 84,
   "metadata": {},
   "outputs": [
    {
     "ename": "NameError",
     "evalue": "name 'date_time_string' is not defined",
     "output_type": "error",
     "traceback": [
      "\u001b[1;31m---------------------------------------------------------------------------\u001b[0m",
      "\u001b[1;31mNameError\u001b[0m                                 Traceback (most recent call last)",
      "\u001b[1;32m<ipython-input-84-c438f0ed60d8>\u001b[0m in \u001b[0;36m<module>\u001b[1;34m\u001b[0m\n\u001b[0;32m      3\u001b[0m \u001b[1;33m\u001b[0m\u001b[0m\n\u001b[0;32m      4\u001b[0m \u001b[0mtoday_date\u001b[0m \u001b[1;33m=\u001b[0m \u001b[0mdate\u001b[0m\u001b[1;33m.\u001b[0m\u001b[0mtoday\u001b[0m\u001b[1;33m(\u001b[0m\u001b[1;33m)\u001b[0m\u001b[1;33m\u001b[0m\u001b[1;33m\u001b[0m\u001b[0m\n\u001b[1;32m----> 5\u001b[1;33m \u001b[0mdate_time\u001b[0m \u001b[1;33m=\u001b[0m \u001b[0mdatetime\u001b[0m\u001b[1;33m.\u001b[0m\u001b[0mstrptime\u001b[0m\u001b[1;33m(\u001b[0m\u001b[0mdate_time_string\u001b[0m\u001b[1;33m,\u001b[0m \u001b[1;34m'%Y-%m-%d %H:%M'\u001b[0m\u001b[1;33m)\u001b[0m\u001b[1;33m\u001b[0m\u001b[1;33m\u001b[0m\u001b[0m\n\u001b[0m",
      "\u001b[1;31mNameError\u001b[0m: name 'date_time_string' is not defined"
     ]
    }
   ],
   "source": [
    "#3. Write a Python program to display the current date and time.?\n",
    "from datetime import date, datetime\n",
    "\n",
    "today_date = date.today()\n",
    "date_time = datetime.strptime(date_time_string, '%Y-%m-%d %H:%M')"
   ]
  },
  {
   "cell_type": "code",
   "execution_count": 85,
   "metadata": {},
   "outputs": [
    {
     "data": {
      "text/plain": [
       "'3.7.4 (default, Aug  9 2019, 18:34:13) [MSC v.1915 64 bit (AMD64)]'"
      ]
     },
     "execution_count": 85,
     "metadata": {},
     "output_type": "execute_result"
    }
   ],
   "source": [
    "#2. Write a Python program to get the Python version you are using?\n",
    "\n",
    "import sys\n",
    "sys.version"
   ]
  },
  {
   "cell_type": "code",
   "execution_count": 12,
   "metadata": {},
   "outputs": [
    {
     "name": "stdout",
     "output_type": "stream",
     "text": [
      "\n",
      "Twinkle, twinkle, little star,\n",
      "    How I wonder what you are!\n",
      "        Up above the world so high,\n",
      "        Like a diamond in the sky.\n",
      "Twinkle, twinkle, little star,\n",
      "    How I wonder what you are\n",
      "    \n"
     ]
    }
   ],
   "source": [
    "#1. Write a Python program to print the following string in a specific format?\n",
    "\n",
    "string1 = \"\"\"\n",
    "Twinkle, twinkle, little star,\n",
    "    How I wonder what you are!\n",
    "        Up above the world so high,\n",
    "        Like a diamond in the sky.\n",
    "Twinkle, twinkle, little star,\n",
    "    How I wonder what you are\n",
    "    \"\"\"\n",
    "print(string1)"
   ]
  },
  {
   "cell_type": "code",
   "execution_count": 14,
   "metadata": {},
   "outputs": [
    {
     "name": "stdout",
     "output_type": "stream",
     "text": [
      "Enter your marks of Chemistry: 80\n",
      "Enter your marks of Maths: 87\n",
      "Enter your marks of Physics: 93\n",
      "Enter your marks of English: 85\n",
      "Enter your marks of Computer: 88\n",
      "Your marks of Chemistry is:  80\n",
      "Your marks of Maths is:  87\n",
      "Your marks of physics is:  93\n",
      "Your marks of English is:  85\n",
      "Your marks of Computer is:  88\n",
      "Your total marks is:  433\n",
      "Your Percentage is:  86.6\n",
      "Congratulations You Secured A+ Grade\n"
     ]
    }
   ],
   "source": [
    "# mark sheet using grades ?\"\"\"\n",
    "\n",
    "Chemistry = int(input(\"Enter your marks of Chemistry: \"))\n",
    "Maths = int(input(\"Enter your marks of Maths: \"))\n",
    "physics = int(input(\"Enter your marks of Physics: \"))\n",
    "English = int(input(\"Enter your marks of English: \"))\n",
    "Computer = int(input(\"Enter your marks of Computer: \"))\n",
    "\n",
    "obtain = Chemistry + Maths + physics + English + Computer\n",
    "total=500\n",
    "Percentage = (obtain/total)*100\n",
    "\n",
    "\n",
    "print(\"Your marks of Chemistry is: \" , Chemistry)\n",
    "print(\"Your marks of Maths is: \" , Maths)\n",
    "print(\"Your marks of physics is: \" ,physics)\n",
    "print(\"Your marks of English is: \" , English)\n",
    "print(\"Your marks of Computer is: \" , Computer)\n",
    "\n",
    "print(\"Your total marks is: \" , obtain)\n",
    "\n",
    "print(\"Your Percentage is: \" , Percentage)\n",
    "\n",
    "\n",
    "if Percentage >= 80:\n",
    "    print(\"Congratulations You Secured A+ Grade\")\n",
    "elif Percentage >= 70 and Percentage < 80:\n",
    "    print(\"Congratulations You Secured A Grade\")\n",
    "elif Percentage >= 60 and Percentage < 70:\n",
    "    print(\"Congratulations You Secured B Grade\")\n",
    "elif Percentage >= 50 and Percentage < 60:\n",
    "    print(\"You Secured C Grade : NEED TO WORK HARD\")\n",
    "else:\n",
    "    print(\"Fail\")"
   ]
  },
  {
   "cell_type": "code",
   "execution_count": 15,
   "metadata": {},
   "outputs": [
    {
     "name": "stdout",
     "output_type": "stream",
     "text": [
      "Enter the number : 5\n",
      "The given number is odd\n"
     ]
    }
   ],
   "source": [
    "\n",
    "# \"\"\"2. Write a program which take input from user and identify that the given number is even or odd?\"\"\"\n",
    "\n",
    "number = int(input(\"Enter the number : \"))\n",
    "if (number % 2) == 0:\n",
    "    print(\"The given number is even\")\n",
    "else:\n",
    "    print(\"The given number is odd\")"
   ]
  },
  {
   "cell_type": "code",
   "execution_count": 16,
   "metadata": {},
   "outputs": [
    {
     "name": "stdout",
     "output_type": "stream",
     "text": [
      "The length of your list is :  10\n"
     ]
    }
   ],
   "source": [
    "# \"\"\"3. Write a program which print the length of the list?\"\"\"\n",
    "\n",
    "list1 = [1,2,3,4,5,6,7,8,9,10]\n",
    "print(\"The length of your list is : \", len(list1))"
   ]
  },
  {
   "cell_type": "code",
   "execution_count": 82,
   "metadata": {
    "scrolled": true
   },
   "outputs": [
    {
     "ename": "TypeError",
     "evalue": "'int' object is not callable",
     "output_type": "error",
     "traceback": [
      "\u001b[1;31m---------------------------------------------------------------------------\u001b[0m",
      "\u001b[1;31mTypeError\u001b[0m                                 Traceback (most recent call last)",
      "\u001b[1;32m<ipython-input-82-ec122ef65fb1>\u001b[0m in \u001b[0;36m<module>\u001b[1;34m\u001b[0m\n\u001b[0;32m      4\u001b[0m \u001b[0mnumbers\u001b[0m \u001b[1;33m=\u001b[0m \u001b[1;33m[\u001b[0m\u001b[1;36m1\u001b[0m\u001b[1;33m,\u001b[0m\u001b[1;36m2\u001b[0m\u001b[1;33m,\u001b[0m\u001b[1;36m3\u001b[0m\u001b[1;33m,\u001b[0m\u001b[1;36m4\u001b[0m\u001b[1;33m,\u001b[0m\u001b[1;36m5\u001b[0m\u001b[1;33m,\u001b[0m\u001b[1;36m1\u001b[0m\u001b[1;33m,\u001b[0m\u001b[1;36m4\u001b[0m\u001b[1;33m,\u001b[0m\u001b[1;36m5\u001b[0m\u001b[1;33m]\u001b[0m\u001b[1;33m\u001b[0m\u001b[1;33m\u001b[0m\u001b[0m\n\u001b[0;32m      5\u001b[0m \u001b[1;33m\u001b[0m\u001b[0m\n\u001b[1;32m----> 6\u001b[1;33m \u001b[0mSum\u001b[0m \u001b[1;33m=\u001b[0m \u001b[0msum\u001b[0m\u001b[1;33m(\u001b[0m\u001b[0mnumbers\u001b[0m\u001b[1;33m)\u001b[0m\u001b[1;33m\u001b[0m\u001b[1;33m\u001b[0m\u001b[0m\n\u001b[0m\u001b[0;32m      7\u001b[0m \u001b[0mprint\u001b[0m\u001b[1;33m(\u001b[0m\u001b[0mSum\u001b[0m\u001b[1;33m)\u001b[0m\u001b[1;33m\u001b[0m\u001b[1;33m\u001b[0m\u001b[0m\n\u001b[0;32m      8\u001b[0m \u001b[1;33m\u001b[0m\u001b[0m\n",
      "\u001b[1;31mTypeError\u001b[0m: 'int' object is not callable"
     ]
    }
   ],
   "source": [
    "#4. Write a Python program to sum all the numeric items in a list?\n",
    "\n",
    "\n",
    "numbers = [1,2,3,4,5,1,4,5] \n",
    "\n",
    "Sum = sum(numbers) \n",
    "print(Sum) \n",
    "\n"
   ]
  },
  {
   "cell_type": "code",
   "execution_count": 21,
   "metadata": {},
   "outputs": [
    {
     "name": "stdout",
     "output_type": "stream",
     "text": [
      "The largest number of your list is :  100\n"
     ]
    }
   ],
   "source": [
    "\n",
    "# \"\"\"5. Write a Python program to get the largest number from a numeric list.?\"\"\"\n",
    "\n",
    "list_2 = [11,22,33,44,55,66,77,88,99,100]\n",
    "print(\"The largest number of your list is : \", max(list_2))"
   ]
  },
  {
   "cell_type": "code",
   "execution_count": 24,
   "metadata": {},
   "outputs": [
    {
     "name": "stdout",
     "output_type": "stream",
     "text": [
      "The numbers which are less than 5 in your list are : \n",
      "1\n",
      "2\n",
      "3\n",
      "4\n",
      "0\n"
     ]
    }
   ],
   "source": [
    "#6. Write a program that prints out all the elements of the list that are less than 5.\n",
    "\n",
    "list_3 = [1,2,3,4,5,66,77,88,99,0]\n",
    "print(\"The numbers which are less than 5 in your list are : \")\n",
    "\n",
    "for ele in list_3:\n",
    "   if ele < 5:\n",
    "    print(ele)\n"
   ]
  },
  {
   "cell_type": "code",
   "execution_count": 40,
   "metadata": {},
   "outputs": [
    {
     "name": "stdout",
     "output_type": "stream",
     "text": [
      "Numeric value in the list 30\n",
      "Numeric value in the list 7\n"
     ]
    }
   ],
   "source": [
    "# Q2. Write a program to check if there is any numeric value in list using for loop?\n",
    "list_1 = [\"basit\", \"ali\", \"BSCS\", 30, \"IU\", 7]\n",
    "\n",
    "for i in list_1:\n",
    "      if int == type(i):\n",
    "            print(\"Numeric value in the list\",i)\n",
    "    else:\n",
    "        continue\n",
    "     \n",
    "\n",
    "\n"
   ]
  },
  {
   "cell_type": "code",
   "execution_count": 42,
   "metadata": {},
   "outputs": [
    {
     "name": "stdout",
     "output_type": "stream",
     "text": [
      "{'A': 10, 'B': 20, 'C': 30, 'D': 100}\n"
     ]
    }
   ],
   "source": [
    "# Q3.. Write a Python script to add a key to a dictionary?\n",
    "\n",
    "dictionary_1 = {'A': 10, 'B':20, 'C':30}\n",
    "\n",
    "dictionary_1 [\"D\"]= 100   \n",
    "\n",
    "print(dictionary_1)"
   ]
  },
  {
   "cell_type": "code",
   "execution_count": 78,
   "metadata": {
    "scrolled": true
   },
   "outputs": [
    {
     "ename": "TypeError",
     "evalue": "'int' object is not callable",
     "output_type": "error",
     "traceback": [
      "\u001b[1;31m---------------------------------------------------------------------------\u001b[0m",
      "\u001b[1;31mTypeError\u001b[0m                                 Traceback (most recent call last)",
      "\u001b[1;32m<ipython-input-78-a3d4a8c5a934>\u001b[0m in \u001b[0;36m<module>\u001b[1;34m\u001b[0m\n\u001b[0;32m      5\u001b[0m \u001b[0mdictionary_mine\u001b[0m \u001b[1;33m=\u001b[0m \u001b[1;33m{\u001b[0m\u001b[1;34m'num1'\u001b[0m\u001b[1;33m:\u001b[0m \u001b[1;36m1\u001b[0m\u001b[1;33m,\u001b[0m \u001b[1;34m'num2'\u001b[0m\u001b[1;33m:\u001b[0m\u001b[1;36m3\u001b[0m\u001b[1;33m,\u001b[0m \u001b[1;34m'num3'\u001b[0m\u001b[1;33m:\u001b[0m\u001b[1;36m5\u001b[0m\u001b[1;33m,\u001b[0m \u001b[1;34m'num4'\u001b[0m\u001b[1;33m:\u001b[0m\u001b[1;36m6\u001b[0m\u001b[1;33m,\u001b[0m \u001b[1;34m'numm5'\u001b[0m\u001b[1;33m:\u001b[0m\u001b[1;36m10\u001b[0m\u001b[1;33m}\u001b[0m\u001b[1;33m\u001b[0m\u001b[1;33m\u001b[0m\u001b[0m\n\u001b[0;32m      6\u001b[0m \u001b[1;33m\u001b[0m\u001b[0m\n\u001b[1;32m----> 7\u001b[1;33m \u001b[0mx\u001b[0m \u001b[1;33m=\u001b[0m \u001b[0msum\u001b[0m\u001b[1;33m(\u001b[0m\u001b[0mdictionary_mine\u001b[0m\u001b[1;33m.\u001b[0m\u001b[0mvalues\u001b[0m\u001b[1;33m(\u001b[0m\u001b[1;33m)\u001b[0m\u001b[1;33m)\u001b[0m\u001b[1;33m\u001b[0m\u001b[1;33m\u001b[0m\u001b[0m\n\u001b[0m\u001b[0;32m      8\u001b[0m \u001b[1;33m\u001b[0m\u001b[0m\n\u001b[0;32m      9\u001b[0m \u001b[0mprint\u001b[0m\u001b[1;33m(\u001b[0m\u001b[1;34m\"Sum of Numeric Items in a dictionary: \"\u001b[0m\u001b[1;33m,\u001b[0m\u001b[0mx\u001b[0m\u001b[1;33m)\u001b[0m\u001b[1;33m\u001b[0m\u001b[1;33m\u001b[0m\u001b[0m\n",
      "\u001b[1;31mTypeError\u001b[0m: 'int' object is not callable"
     ]
    }
   ],
   "source": [
    "\n",
    "# \"\"\"4. Write a Python program to sum all the numeric items in a dictionary?\"\"\"\n",
    "\n",
    "\n",
    "\n",
    "dictionary_mine = {'num1': 1, 'num2':3, 'num3':5, 'num4':6, 'numm5':10}\n",
    "\n",
    "x = sum(dictionary_mine.values())\n",
    "\n",
    "print(\"Sum of Numeric Items in a dictionary: \",x)\n"
   ]
  },
  {
   "cell_type": "code",
   "execution_count": 76,
   "metadata": {},
   "outputs": [
    {
     "name": "stdout",
     "output_type": "stream",
     "text": [
      "[20, 30, -20, 60]\n"
     ]
    }
   ],
   "source": [
    "# Q5. Write a program to identify duplicate values from list?\"\"\"\n",
    "\n",
    "def Repeat(list1):\n",
    "    repeated=[]\n",
    "    ListSize=len(list1)\n",
    "    for i in range(ListSize):\n",
    "        k=i+1\n",
    "        for j in range(k,ListSize):\n",
    "            if list1[i] == list1[j] not in repeated:\n",
    "                repeated.append(list1[j])\n",
    "    return repeated\n",
    "    \n",
    "\n",
    "list1 = [10, 20, 30, 20, 20, 30, 40,  \n",
    "         50, -20, 60, 60, -20, -20] \n",
    "print (Repeat(list1))             \n",
    "\n"
   ]
  },
  {
   "cell_type": "code",
   "execution_count": 74,
   "metadata": {},
   "outputs": [
    {
     "name": "stdout",
     "output_type": "stream",
     "text": [
      "Enter key to check existence: age\n",
      "The key : age Is Not Exist\n"
     ]
    }
   ],
   "source": [
    "# Q6. Write a Python script to check if a given key already exists in a dictionary?\n",
    "\n",
    "my_data = {'Name': 'basit', \n",
    "           'F_name': 'ali',\n",
    "           'D_o_B': 1997,\n",
    "           'Age': 22,\n",
    "           'City': 'Karachi',\n",
    "           'Nationality': 'Pakistan'}\n",
    "\n",
    "key_to_check = input(\"Enter key to check existence: \")\n",
    "if key_to_check in my_data.keys():\n",
    "    print(\"The key : \" + key_to_check + \" Is Already Exist\")\n",
    "else:\n",
    "    print(\"The key : \" + key_to_check + \" Is Not Exist\")\n"
   ]
  },
  {
   "cell_type": "code",
   "execution_count": 95,
   "metadata": {},
   "outputs": [
    {
     "name": "stdout",
     "output_type": "stream",
     "text": [
      "before\n",
      "First_name : basit\n",
      "Last_name : ali\n",
      "city : karachi\n",
      "age : 22\n",
      "qualification : bachelors\n",
      "After\n",
      "First_name : basit\n",
      "Last_name : ali\n",
      "city : karachi\n",
      "age : 22\n"
     ]
    }
   ],
   "source": [
    "dict1={\n",
    "    'First_name':'basit',\n",
    "     'Last_name': 'ali',\n",
    "      'city':'karachi',\n",
    "       'age':'22'\n",
    "}\n",
    "print('before')\n",
    "dict1.update({'qualification':'bachelors'})\n",
    "for eachkey,eachvalue in dict1.items():\n",
    "    print(eachkey+\" : \"+eachvalue)\n",
    "    \n",
    "dict1.pop('qualification')\n",
    "print('After')\n",
    "for eachkey,eachvalue in dict1.items():\n",
    "    print(eachkey+\" : \"+eachvalue)\n",
    "    "
   ]
  },
  {
   "cell_type": "code",
   "execution_count": 102,
   "metadata": {},
   "outputs": [
    {
     "name": "stdout",
     "output_type": "stream",
     "text": [
      "How many tickets are required3\n",
      "Enter age12\n",
      "Enter age3\n",
      "Enter age45\n",
      "Ticket is $15\n",
      "Total Tickets prices 15\n"
     ]
    }
   ],
   "source": [
    "RequiredTicket=int(input(\"How many tickets are required\"))\n",
    "Total=0\n",
    "while(RequiredTicket !=0):\n",
    "    Tickets = int(input(\"Enter age\"))\n",
    "    if Tickets < 3:\n",
    "        print(\"Ticket is free\")\n",
    "    elif Tickets > 3 and Tickets < 12:\n",
    "        print(\"Ticket is $10\")\n",
    "        Total = Total + 10\n",
    "    elif Tickets > 12:\n",
    "        print(\"Ticket is $15\")\n",
    "        Total = Total + 15\n",
    "    RequiredTicket=RequiredTicket-1\n",
    "\n",
    "print(\"Total Tickets prices\",Total)"
   ]
  },
  {
   "cell_type": "code",
   "execution_count": 105,
   "metadata": {
    "scrolled": true
   },
   "outputs": [
    {
     "name": "stdout",
     "output_type": "stream",
     "text": [
      "My favourite book is The Smarter way to learn to javascript It is wonderful\n"
     ]
    }
   ],
   "source": [
    "def Fav_Book(title):\n",
    "    print(\"My favourite book is \"+ title +\" It is wonderful\")\n",
    "\n",
    "Fav_Book(\"The Smarter way to learn to javascript\")"
   ]
  },
  {
   "cell_type": "code",
   "execution_count": null,
   "metadata": {},
   "outputs": [],
   "source": [
    "Secret_word=\"basit\"\n",
    "guess=\"\"\n",
    "Count=0\n",
    "limit=3\n",
    "Out_game=False\n",
    "\n",
    "while guess != Secret_word and not( Out_game):\n",
    "    if Count < limit:\n",
    "         guess= input(\"Enter guess word:\")\n",
    "         Count+=1\n",
    "    else:\n",
    "          Out_game=True\n",
    "\n",
    "if Out_game:\n",
    "       print(\"You are out o f gmae\")\n",
    "else:\n",
    "    print(\"You Win\")\n"
   ]
  }
 ],
 "metadata": {
  "kernelspec": {
   "display_name": "Python 3",
   "language": "python",
   "name": "python3"
  },
  "language_info": {
   "codemirror_mode": {
    "name": "ipython",
    "version": 3
   },
   "file_extension": ".py",
   "mimetype": "text/x-python",
   "name": "python",
   "nbconvert_exporter": "python",
   "pygments_lexer": "ipython3",
   "version": "3.7.4"
  }
 },
 "nbformat": 4,
 "nbformat_minor": 2
}
